{
 "cells": [
  {
   "cell_type": "markdown",
   "metadata": {},
   "source": [
    "# Assignment Question 1"
   ]
  },
  {
   "cell_type": "markdown",
   "metadata": {},
   "source": [
    "## Sum of n numbers with the help of while loop"
   ]
  },
  {
   "cell_type": "code",
   "execution_count": 1,
   "metadata": {},
   "outputs": [
    {
     "name": "stdout",
     "output_type": "stream",
     "text": [
      "10\n",
      "Final sum is  10\n",
      "19\n",
      "Final sum is  19\n",
      "27\n",
      "Final sum is  27\n",
      "34\n",
      "Final sum is  34\n",
      "40\n",
      "Final sum is  40\n",
      "45\n",
      "Final sum is  45\n",
      "49\n",
      "Final sum is  49\n",
      "52\n",
      "Final sum is  52\n",
      "54\n",
      "Final sum is  54\n",
      "55\n",
      "Final sum is  55\n",
      "55\n",
      "Final sum is  55\n"
     ]
    }
   ],
   "source": [
    "sum1 = 0\n",
    "n = 10\n",
    "val = n\n",
    "while (n>=0):\n",
    "    sum1 = sum1 + n\n",
    "    n = n - 1\n",
    "    print (sum1)\n",
    "    \n",
    "    print (\"Final sum is \", sum1)"
   ]
  },
  {
   "cell_type": "markdown",
   "metadata": {},
   "source": [
    "# Assignment Question 2"
   ]
  },
  {
   "cell_type": "markdown",
   "metadata": {},
   "source": [
    "## Take integer and find whether the number is prime or not"
   ]
  },
  {
   "cell_type": "code",
   "execution_count": 2,
   "metadata": {},
   "outputs": [
    {
     "name": "stdout",
     "output_type": "stream",
     "text": [
      "Enter the number: 11\n",
      "11 is prime number\n"
     ]
    }
   ],
   "source": [
    "num = int(input(\"Enter the number: \"))\n",
    "if num>1:\n",
    "    for i in range(2,num):\n",
    "        if (num % i)==0:\n",
    "            print (num,\"not prime number\")\n",
    "            break\n",
    "    else:\n",
    "        print(num,\"is prime number\")\n",
    "else:\n",
    "    print(num,\"not prime number\")"
   ]
  },
  {
   "cell_type": "code",
   "execution_count": 3,
   "metadata": {},
   "outputs": [
    {
     "name": "stdout",
     "output_type": "stream",
     "text": [
      "Enter the number: 15\n",
      "15 not prime number\n"
     ]
    }
   ],
   "source": [
    "num = int(input(\"Enter the number: \"))\n",
    "if num>1:\n",
    "    for i in range(2,num):\n",
    "        if (num % i)==0:\n",
    "            print (num,\"not prime number\")\n",
    "            break\n",
    "    else:\n",
    "        print(num,\"is prime number\")\n",
    "else:\n",
    "    print(num,\"not prime number\")"
   ]
  }
 ],
 "metadata": {
  "kernelspec": {
   "display_name": "Python 3",
   "language": "python",
   "name": "python3"
  },
  "language_info": {
   "codemirror_mode": {
    "name": "ipython",
    "version": 3
   },
   "file_extension": ".py",
   "mimetype": "text/x-python",
   "name": "python",
   "nbconvert_exporter": "python",
   "pygments_lexer": "ipython3",
   "version": "3.7.6"
  }
 },
 "nbformat": 4,
 "nbformat_minor": 4
}
