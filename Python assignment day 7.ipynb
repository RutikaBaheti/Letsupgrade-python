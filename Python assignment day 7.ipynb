{
 "cells": [
  {
   "cell_type": "markdown",
   "metadata": {},
   "source": [
    "## Assignment QUESTION 1"
   ]
  },
  {
   "cell_type": "markdown",
   "metadata": {},
   "source": [
    "### Use the dictionary and make new dictionary in which keys become values and values become keys"
   ]
  },
  {
   "cell_type": "code",
   "execution_count": 1,
   "metadata": {},
   "outputs": [],
   "source": [
    "port1 = {21: \"FTTP\", 22: \"SSH\", 23: \"TELNET\", 80: \"HTTP\"}"
   ]
  },
  {
   "cell_type": "code",
   "execution_count": 2,
   "metadata": {},
   "outputs": [
    {
     "name": "stdout",
     "output_type": "stream",
     "text": [
      "{'FTTP': 21, 'SSH': 22, 'TELNET': 23, 'HTTP': 80}\n"
     ]
    }
   ],
   "source": [
    "port1={21: \"FTTP\",22: \"SSH\",23: \"TELNET\",80:\"HTTP\"}\n",
    "d1=list(port1.keys())\n",
    "d2=list(port1.values())\n",
    "port2={d2[i]:d1[i] for i in range(len(d1))}\n",
    "print(port2)"
   ]
  },
  {
   "cell_type": "markdown",
   "metadata": {},
   "source": [
    "## QUESTION 2"
   ]
  },
  {
   "cell_type": "markdown",
   "metadata": {},
   "source": [
    "### Take a list of tuple and make a new list which contains sum of number of tuples"
   ]
  },
  {
   "cell_type": "code",
   "execution_count": 4,
   "metadata": {},
   "outputs": [
    {
     "name": "stdout",
     "output_type": "stream",
     "text": [
      "[3, 7, 11, 9]\n"
     ]
    }
   ],
   "source": [
    "list1 = [(1,2),(3,4),(5,6),(4,5)]\n",
    "res= [sum(i) for i in list1]\n",
    "print(res)"
   ]
  },
  {
   "cell_type": "markdown",
   "metadata": {},
   "source": [
    "## QUESTION 3"
   ]
  },
  {
   "cell_type": "markdown",
   "metadata": {},
   "source": [
    "### Take a list as shown below. [(1,2,3), [1,2], [\"a\", \"hit\", \"less\"]] The list contain tuple and lists. Make the elements of inner lists and tuples to outer lists"
   ]
  },
  {
   "cell_type": "code",
   "execution_count": 7,
   "metadata": {},
   "outputs": [
    {
     "name": "stdout",
     "output_type": "stream",
     "text": [
      "[1, 2, 3, 1, 2, 'a', 'hit', 'less']\n"
     ]
    }
   ],
   "source": [
    "lst=[(1,2,3),[1,2],['a','hit','less']]\n",
    "res=[]\n",
    "for i in lst:\n",
    "    if type(i)==type(lst):\n",
    "        res=res+i\n",
    "    elif type(i)==tuple:\n",
    "        res.extend(i)\n",
    "    else:\n",
    "        res.append(i)\n",
    "print(res)"
   ]
  }
 ],
 "metadata": {
  "kernelspec": {
   "display_name": "Python 3",
   "language": "python",
   "name": "python3"
  },
  "language_info": {
   "codemirror_mode": {
    "name": "ipython",
    "version": 3
   },
   "file_extension": ".py",
   "mimetype": "text/x-python",
   "name": "python",
   "nbconvert_exporter": "python",
   "pygments_lexer": "ipython3",
   "version": "3.7.6"
  }
 },
 "nbformat": 4,
 "nbformat_minor": 4
}
